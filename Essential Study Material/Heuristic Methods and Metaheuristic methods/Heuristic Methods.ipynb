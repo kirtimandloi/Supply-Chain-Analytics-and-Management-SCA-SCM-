{
 "cells": [
  {
   "cell_type": "markdown",
   "id": "164e4e91",
   "metadata": {},
   "source": [
    "## Hill Climbing"
   ]
  },
  {
   "cell_type": "code",
   "execution_count": 1,
   "id": "6a2b22a1",
   "metadata": {},
   "outputs": [
    {
     "name": "stdout",
     "output_type": "stream",
     "text": [
      "Optimal Warehouse Locations: [13, 4]\n",
      "Total Transportation Cost: 12\n"
     ]
    }
   ],
   "source": [
    "def cost_function(warehouse_locations, customer_locations):\n",
    "    total_cost = 0\n",
    "    for customer in customer_locations:\n",
    "        min_cost = float('inf')\n",
    "        for warehouse in warehouse_locations:\n",
    "            distance = abs(customer - warehouse)\n",
    "            min_cost = min(min_cost, distance)\n",
    "        total_cost += min_cost\n",
    "    return total_cost\n",
    "\n",
    "def generate_neighbors(current_solution, location_range):\n",
    "    neighbors = []\n",
    "    for i in range(len(current_solution)):\n",
    "        if current_solution[i] > location_range[0]:\n",
    "            neighbor = current_solution.copy()\n",
    "            neighbor[i] -= 1\n",
    "            neighbors.append(neighbor)\n",
    "        if current_solution[i] < location_range[1]:\n",
    "            neighbor = current_solution.copy()\n",
    "            neighbor[i] += 1\n",
    "            neighbors.append(neighbor)\n",
    "    return neighbors\n",
    "\n",
    "def hill_climbing(customer_locations, num_warehouses, location_range, max_iter=1000):\n",
    "    import random\n",
    "    # Generate initial solution\n",
    "    current_solution = [random.randint(*location_range) for _ in range(num_warehouses)]\n",
    "    current_cost = cost_function(current_solution, customer_locations)\n",
    "    \n",
    "    for _ in range(max_iter):\n",
    "        neighbors = generate_neighbors(current_solution, location_range)\n",
    "        neighbors_costs = [(neighbor, cost_function(neighbor, customer_locations)) for neighbor in neighbors]\n",
    "        \n",
    "        # Sort neighbors by cost (ascending)\n",
    "        neighbors_costs.sort(key=lambda x: x[1])\n",
    "        \n",
    "        # Select the best neighbor\n",
    "        best_neighbor, best_neighbor_cost = neighbors_costs[0]\n",
    "        \n",
    "        if best_neighbor_cost < current_cost:\n",
    "            current_solution = best_neighbor\n",
    "            current_cost = best_neighbor_cost\n",
    "        else:\n",
    "            # No improvement, stop the search\n",
    "            break\n",
    "    \n",
    "    return current_solution, current_cost\n",
    "\n",
    "# Example usage\n",
    "customer_locations = [1, 5, 9, 13, 17]\n",
    "num_warehouses = 2\n",
    "location_range = (0, 20)\n",
    "\n",
    "optimal_solution, optimal_cost = hill_climbing(customer_locations, num_warehouses, location_range)\n",
    "print(f\"Optimal Warehouse Locations: {optimal_solution}\")\n",
    "print(f\"Total Transportation Cost: {optimal_cost}\")\n"
   ]
  },
  {
   "cell_type": "markdown",
   "id": "7e9007d6",
   "metadata": {},
   "source": [
    "## Simulated Annealing"
   ]
  },
  {
   "cell_type": "code",
   "execution_count": 2,
   "id": "8ad616d1",
   "metadata": {},
   "outputs": [
    {
     "name": "stdout",
     "output_type": "stream",
     "text": [
      "Optimal Routes: [[15, 11, 6, 8, 3, 13, 10], [9, 20, 17, 12, 18, 1, 4], [19, 14, 5, 2, 16, 7]]\n",
      "Total Travel Distance: 474\n"
     ]
    }
   ],
   "source": [
    "import random\n",
    "import math\n",
    "\n",
    "# Example cost function: total travel distance\n",
    "def calculate_total_distance(routes, distance_matrix):\n",
    "    total_distance = 0\n",
    "    for route in routes:\n",
    "        for i in range(len(route) - 1):\n",
    "            total_distance += distance_matrix[route[i]][route[i + 1]]\n",
    "    return total_distance\n",
    "\n",
    "# Generate an initial solution: random routes\n",
    "def generate_initial_solution(customers, num_vehicles):\n",
    "    random.shuffle(customers)\n",
    "    routes = [[] for _ in range(num_vehicles)]\n",
    "    for i, customer in enumerate(customers):\n",
    "        routes[i % num_vehicles].append(customer)\n",
    "    return routes\n",
    "\n",
    "# Generate a neighboring solution by swapping two customers\n",
    "def generate_neighbor_solution(routes):\n",
    "    new_routes = [route[:] for route in routes]\n",
    "    route1, route2 = random.sample(range(len(routes)), 2)\n",
    "    if not new_routes[route1] or not new_routes[route2]:\n",
    "        return new_routes\n",
    "    customer1 = random.choice(new_routes[route1])\n",
    "    customer2 = random.choice(new_routes[route2])\n",
    "    new_routes[route1][new_routes[route1].index(customer1)] = customer2\n",
    "    new_routes[route2][new_routes[route2].index(customer2)] = customer1\n",
    "    return new_routes\n",
    "\n",
    "# Simulated Annealing Algorithm\n",
    "def simulated_annealing(customers, num_vehicles, distance_matrix, initial_temperature, cooling_rate, stopping_temperature):\n",
    "    current_solution = generate_initial_solution(customers, num_vehicles)\n",
    "    current_cost = calculate_total_distance(current_solution, distance_matrix)\n",
    "    best_solution = current_solution\n",
    "    best_cost = current_cost\n",
    "    temperature = initial_temperature\n",
    "    \n",
    "    while temperature > stopping_temperature:\n",
    "        neighbor_solution = generate_neighbor_solution(current_solution)\n",
    "        neighbor_cost = calculate_total_distance(neighbor_solution, distance_matrix)\n",
    "        \n",
    "        if neighbor_cost < current_cost or random.uniform(0, 1) < math.exp((current_cost - neighbor_cost) / temperature):\n",
    "            current_solution = neighbor_solution\n",
    "            current_cost = neighbor_cost\n",
    "            \n",
    "        if current_cost < best_cost:\n",
    "            best_solution = current_solution\n",
    "            best_cost = current_cost\n",
    "        \n",
    "        temperature *= cooling_rate\n",
    "    \n",
    "    return best_solution, best_cost\n",
    "\n",
    "# Example usage\n",
    "customers = list(range(1, 21))  # Customer locations represented as integers\n",
    "num_vehicles = 3\n",
    "distance_matrix = [[random.randint(1, 100) for _ in range(21)] for _ in range(21)]\n",
    "initial_temperature = 1000\n",
    "cooling_rate = 0.95\n",
    "stopping_temperature = 1\n",
    "\n",
    "optimal_solution, optimal_cost = simulated_annealing(customers, num_vehicles, distance_matrix, initial_temperature, cooling_rate, stopping_temperature)\n",
    "print(f\"Optimal Routes: {optimal_solution}\")\n",
    "print(f\"Total Travel Distance: {optimal_cost}\")\n"
   ]
  },
  {
   "cell_type": "code",
   "execution_count": null,
   "id": "c6456547",
   "metadata": {},
   "outputs": [],
   "source": []
  },
  {
   "cell_type": "code",
   "execution_count": null,
   "id": "5a5fcd07",
   "metadata": {},
   "outputs": [],
   "source": []
  }
 ],
 "metadata": {
  "kernelspec": {
   "display_name": "Python 3 (ipykernel)",
   "language": "python",
   "name": "python3"
  },
  "language_info": {
   "codemirror_mode": {
    "name": "ipython",
    "version": 3
   },
   "file_extension": ".py",
   "mimetype": "text/x-python",
   "name": "python",
   "nbconvert_exporter": "python",
   "pygments_lexer": "ipython3",
   "version": "3.11.4"
  }
 },
 "nbformat": 4,
 "nbformat_minor": 5
}
