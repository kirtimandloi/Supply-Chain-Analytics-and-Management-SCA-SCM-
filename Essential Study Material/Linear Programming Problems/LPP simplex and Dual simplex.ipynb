{
 "cells": [
  {
   "cell_type": "code",
   "execution_count": 3,
   "id": "f5a007dd",
   "metadata": {},
   "outputs": [
    {
     "name": "stdout",
     "output_type": "stream",
     "text": [
      "Status: Optimal\n",
      "Optimal number of Pendrive A to produce: 20.0\n",
      "Optimal number of Pendrive B to produce: 5.0\n",
      "Maximum Profit: Rs 42500.0\n"
     ]
    }
   ],
   "source": [
    "import pulp\n",
    "\n",
    "# Create a Linear Programming problem (description in case study docx/pdf given)\n",
    "lp_problem = pulp.LpProblem(\"Maximize_Profit\", pulp.LpMaximize)\n",
    "\n",
    "# Decision variables\n",
    "x = pulp.LpVariable('x', lowBound=0, cat='Continuous')  # Units of Pendrive A\n",
    "y = pulp.LpVariable('y', lowBound=0, cat='Continuous')  # Units of Pendrive B\n",
    "\n",
    "# Objective function\n",
    "lp_problem += 1500 * x + 2500 * y, \"Total_Profit\"\n",
    "\n",
    "# Constraints\n",
    "lp_problem += 3 * x + 4 * y <= 200, \"Skilled_Labor\"\n",
    "lp_problem += 2 * x + 3 * y <= 170, \"Unskilled_Labor\"\n",
    "lp_problem += x + 2 * y <= 30, \"Raw_Material\"\n",
    "lp_problem += x >= 3, \"Minimum_Pendrive_A\"\n",
    "lp_problem += y >= 5, \"Minimum_Pendrive_B\"\n",
    "\n",
    "# Solve the problem\n",
    "lp_problem.solve()\n",
    "\n",
    "# Print the results\n",
    "print(f\"Status: {pulp.LpStatus[lp_problem.status]}\")\n",
    "print(f\"Optimal number of Pendrive A to produce: {x.varValue}\")\n",
    "print(f\"Optimal number of Pendrive B to produce: {y.varValue}\")\n",
    "print(f\"Maximum Profit: Rs {pulp.value(lp_problem.objective)}\")\n"
   ]
  },
  {
   "cell_type": "markdown",
   "id": "7ed21511",
   "metadata": {},
   "source": [
    "### Explanation of the Code:\n",
    "Create a Linear Programming Problem:\n",
    "\n",
    "lp_problem = pulp.LpProblem(\"Maximize_Profit\", pulp.LpMaximize) initializes the problem as a maximization problem.\n",
    "\n",
    "#### Decision Variables:\n",
    "\n",
    "x and y are created as continuous variables with a lower bound of 0. These represent the number of units of Pendrive A and Pendrive B produced, respectively.\n",
    "\n",
    "#### Objective Function:\n",
    "\n",
    "The objective function is defined to maximize the total profit: 1500 * x + 2500 * y.\n",
    "\n",
    "#### Constraints:\n",
    "\n",
    "The constraints for skilled labor, unskilled labor, raw material, and minimum production requirements are added to the problem.\n",
    "\n",
    "3 * x + 4 * y <= 200 ensures that the total hours of skilled labor used for producing both pendrives do not exceed the available 200 hours.\n",
    "\n",
    "2 * x + 3 * y <= 170 ensures that the total hours of unskilled labor used for producing both pendrives do not exceed the available 170 hours.\n",
    "\n",
    "x + 2 * y <= 30 ensures that the total units of raw materials used for producing both pendrives do not exceed the available 30 units.\n",
    "\n",
    "x >= 3 ensures that at least 3 units of Pendrive A are produced.\n",
    "\n",
    "y >= 5 ensures that at least 5 units of Pendrive B are produced.\n",
    "\n",
    "#### Solve the Problem:\n",
    "\n",
    "lp_problem.solve() solves the problem using the default solver.\n",
    "\n",
    "#### Print the Results:\n",
    "\n",
    "The status of the solution, optimal values for x and y, and the maximum profit are printed."
   ]
  },
  {
   "cell_type": "code",
   "execution_count": 4,
   "id": "26857061",
   "metadata": {},
   "outputs": [
    {
     "name": "stdout",
     "output_type": "stream",
     "text": [
      "Status: Optimal\n",
      "x11 = 1.0\n",
      "x12 = 5.0\n",
      "x13 = 0.0\n",
      "x21 = 6.0\n",
      "x22 = 0.0\n",
      "x23 = 3.0\n",
      "Total Transportation Cost = 41.0 hundreds of rupees\n"
     ]
    }
   ],
   "source": [
    "# Create a LP minimization problem (description in case study docx/pdf given)\n",
    "prob = pulp.LpProblem(\"Milk_Transportation_Problem\", pulp.LpMinimize)\n",
    "\n",
    "# Define decision variables\n",
    "x11 = pulp.LpVariable('x11', lowBound=0, cat='Continuous')\n",
    "x12 = pulp.LpVariable('x12', lowBound=0, cat='Continuous')\n",
    "x13 = pulp.LpVariable('x13', lowBound=0, cat='Continuous')\n",
    "x21 = pulp.LpVariable('x21', lowBound=0, cat='Continuous')\n",
    "x22 = pulp.LpVariable('x22', lowBound=0, cat='Continuous')\n",
    "x23 = pulp.LpVariable('x23', lowBound=0, cat='Continuous')\n",
    "\n",
    "# Define the objective function\n",
    "prob += 2*x11 + 3*x12 + 11*x13 + 1*x21 + 9*x22 + 6*x23, \"Total Transportation Cost\"\n",
    "\n",
    "# Define constraints\n",
    "# Supply constraints\n",
    "prob += x11 + x12 + x13 <= 6, \"Supply_Plant_1\"\n",
    "prob += x21 + x22 + x23 <= 9, \"Supply_Plant_2\"\n",
    "\n",
    "# Demand constraints\n",
    "prob += x11 + x21 >= 7, \"Demand_Distribution_Centre_1\"\n",
    "prob += x12 + x22 >= 5, \"Demand_Distribution_Centre_2\"\n",
    "prob += x13 + x23 >= 3, \"Demand_Distribution_Centre_3\"\n",
    "\n",
    "# Solve the problem\n",
    "prob.solve()\n",
    "\n",
    "# Print the results\n",
    "print(f\"Status: {pulp.LpStatus[prob.status]}\")\n",
    "for v in prob.variables():\n",
    "    print(f\"{v.name} = {v.varValue}\")\n",
    "\n",
    "print(f\"Total Transportation Cost = {pulp.value(prob.objective)} hundreds of rupees\")"
   ]
  },
  {
   "cell_type": "code",
   "execution_count": 1,
   "id": "c6753a44",
   "metadata": {},
   "outputs": [
    {
     "name": "stdout",
     "output_type": "stream",
     "text": [
      "Status: Optimal\n",
      "Units of Food A: 0.0\n",
      "Units of Food B: 8.0\n",
      "Total Cost: $8.0\n"
     ]
    }
   ],
   "source": [
    "# Create a Linear Programming problem (description in case study docx/pdf given)\n",
    "diet_problem = pulp.LpProblem(\"Minimize_Diet_Cost\", pulp.LpMinimize)\n",
    "\n",
    "# Decision variables\n",
    "x = pulp.LpVariable('x', lowBound=0, cat='Continuous')  # Units of Food A\n",
    "y = pulp.LpVariable('y', lowBound=0, cat='Continuous')  # Units of Food B\n",
    "\n",
    "# Objective function\n",
    "diet_problem += 3 * x + 1 * y, \"Total_Cost\"\n",
    "\n",
    "# Constraints\n",
    "diet_problem += 2 * x + 1 * y >= 8, \"Protein_Requirement\"\n",
    "diet_problem += 4 * x + 2 * y >= 16, \"Vitamins_Requirement\"\n",
    "\n",
    "# Solve the problem\n",
    "diet_problem.solve()\n",
    "\n",
    "# Print the results\n",
    "print(f\"Status: {pulp.LpStatus[diet_problem.status]}\")\n",
    "print(f\"Units of Food A: {x.varValue}\")\n",
    "print(f\"Units of Food B: {y.varValue}\")\n",
    "print(f\"Total Cost: ${pulp.value(diet_problem.objective)}\")\n"
   ]
  },
  {
   "cell_type": "markdown",
   "id": "00e155d8",
   "metadata": {},
   "source": [
    "### Explanation\n",
    "\n",
    "#### Import PuLP Library:\n",
    "\n",
    "import pulp\n",
    "#### Create LP Problem:\n",
    "\n",
    "diet_problem = pulp.LpProblem(\"Minimize_Diet_Cost\", pulp.LpMinimize) creates an LP problem to minimize the cost.\n",
    "\n",
    "#### Decision Variables:\n",
    "\n",
    "x represents the number of units of Food A.\n",
    "y represents the number of units of Food B.\n",
    "\n",
    "#### Objective Function:\n",
    "\n",
    "diet_problem += 3 * x + 1 * y, \"Total_Cost\" defines the objective function to minimize the total cost.\n",
    "\n",
    "#### Constraints:\n",
    "\n",
    "diet_problem += 2 * x + 1 * y >= 8, \"Protein_Requirement\" ensures the protein requirement is met.\n",
    "diet_problem += 4 * x + 2 * y >= 16, \"Vitamins_Requirement\" ensures the vitamins requirement is met.\n",
    "\n",
    "#### Solve the Problem:\n",
    "\n",
    "diet_problem.solve() solves the LP problem.\n",
    "#### Print the Results:\n",
    "\n",
    "The status, number of units of each food, and total cost are printed."
   ]
  },
  {
   "cell_type": "code",
   "execution_count": 2,
   "id": "41e7d8dc",
   "metadata": {},
   "outputs": [
    {
     "name": "stdout",
     "output_type": "stream",
     "text": [
      "Status: Optimal\n",
      "x11 = 4.3974069e-10\n",
      "x12 = 0.0\n",
      "x13 = 0.0\n",
      "x21 = 1600.0\n",
      "x22 = 2400.0\n",
      "x23 = 0.0\n",
      "x31 = 0.0\n",
      "x32 = 0.0\n",
      "x33 = 1200.0\n",
      "Total Profit = 380000.00000002637 Rs.\n"
     ]
    }
   ],
   "source": [
    "# Create a LP maximization problem (description in case study docx/pdf given)\n",
    "prob = pulp.LpProblem(\"Cargo_Loading_Problem\", pulp.LpMaximize)\n",
    "\n",
    "# Define decision variables\n",
    "x11 = pulp.LpVariable('x11', lowBound=0, cat='Continuous')\n",
    "x12 = pulp.LpVariable('x12', lowBound=0, cat='Continuous')\n",
    "x13 = pulp.LpVariable('x13', lowBound=0, cat='Continuous')\n",
    "x21 = pulp.LpVariable('x21', lowBound=0, cat='Continuous')\n",
    "x22 = pulp.LpVariable('x22', lowBound=0, cat='Continuous')\n",
    "x23 = pulp.LpVariable('x23', lowBound=0, cat='Continuous')\n",
    "x31 = pulp.LpVariable('x31', lowBound=0, cat='Continuous')\n",
    "x32 = pulp.LpVariable('x32', lowBound=0, cat='Continuous')\n",
    "x33 = pulp.LpVariable('x33', lowBound=0, cat='Continuous')\n",
    "\n",
    "# Define the objective function\n",
    "prob += 60*x11 + 60*x12 + 60*x13 + 80*x21 + 80*x22 + 80*x23 + 50*x31 + 50*x32 + 50*x33, \"Total Profit\"\n",
    "\n",
    "# Define constraints\n",
    "# Capacity constraints in tonnes\n",
    "prob += x11 + x21 + x31 <= 2000, \"Tonnes_Forward\"\n",
    "prob += x12 + x22 + x32 <= 3000, \"Tonnes_Centre\"\n",
    "prob += x13 + x23 + x33 <= 1500, \"Tonnes_Aft\"\n",
    "\n",
    "# Volume constraints in m^3\n",
    "prob += 60*x11 + 50*x21 + 25*x31 <= 100000, \"Volume_Forward\"\n",
    "prob += 60*x12 + 50*x22 + 25*x32 <= 135000, \"Volume_Centre\"\n",
    "prob += 60*x13 + 50*x23 + 25*x33 <= 30000, \"Volume_Aft\"\n",
    "\n",
    "# Total availability constraints\n",
    "prob += x11 + x12 + x13 <= 6000, \"Total_A\"\n",
    "prob += x21 + x22 + x23 <= 4000, \"Total_B\"\n",
    "prob += x31 + x32 + x33 <= 2000, \"Total_C\"\n",
    "\n",
    "# Weight proportionality constraints\n",
    "prob += (x11 + x21 + x31)/2000 == (x12 + x22 + x32)/3000, \"Proportional_1\"\n",
    "prob += (x12 + x22 + x32)/3000 == (x13 + x23 + x33)/1500, \"Proportional_2\"\n",
    "\n",
    "# Solve the problem\n",
    "prob.solve()\n",
    "\n",
    "# Print the results\n",
    "print(f\"Status: {pulp.LpStatus[prob.status]}\")\n",
    "for v in prob.variables():\n",
    "    print(f\"{v.name} = {v.varValue}\")\n",
    "\n",
    "print(f\"Total Profit = {pulp.value(prob.objective)} Rs.\")"
   ]
  },
  {
   "cell_type": "markdown",
   "id": "20faab2e",
   "metadata": {},
   "source": [
    "## Simplex Method"
   ]
  },
  {
   "cell_type": "markdown",
   "id": "e3b45edf",
   "metadata": {},
   "source": [
    "## Problem Statement\n",
    "A company wants to minimize the cost of shipping products from multiple warehouses to multiple customers. The constraints include the capacities of the warehouses and the demands of the customers."
   ]
  },
  {
   "cell_type": "code",
   "execution_count": 1,
   "id": "1409f03f",
   "metadata": {},
   "outputs": [
    {
     "name": "stdout",
     "output_type": "stream",
     "text": [
      "Optimal value: 3230.0\n",
      "Optimal solution: [  0. 100.  80.   0. 120.   0.   0.   0. 150.]\n"
     ]
    },
    {
     "name": "stderr",
     "output_type": "stream",
     "text": [
      "C:\\Users\\LENOVO\\AppData\\Local\\Temp\\ipykernel_10696\\2635681673.py:23: DeprecationWarning: `method='simplex'` is deprecated and will be removed in SciPy 1.11.0. Please use one of the HiGHS solvers (e.g. `method='highs'`) in new code.\n",
      "  res = linprog(c, A_eq=A_eq, b_eq=b_eq, bounds=x_bounds, method='simplex')\n",
      "C:\\Users\\LENOVO\\AppData\\Local\\Temp\\ipykernel_10696\\2635681673.py:23: OptimizeWarning: A_eq does not appear to be of full row rank. To improve performance, check the problem formulation for redundant equality constraints.\n",
      "  res = linprog(c, A_eq=A_eq, b_eq=b_eq, bounds=x_bounds, method='simplex')\n"
     ]
    }
   ],
   "source": [
    "import numpy as np\n",
    "from scipy.optimize import linprog\n",
    "\n",
    "# Define the problem data\n",
    "c = [8, 6, 10, 9, 9, 12, 13, 7, 5]  # Cost coefficients\n",
    "\n",
    "# Define the constraints\n",
    "A_eq = [\n",
    "    [1, 1, 0, 0, 0, 0, 0, 0, 0],  # Supply constraints for warehouse 1\n",
    "    [0, 0, 1, 1, 1, 0, 0, 0, 0],  # Supply constraints for warehouse 2\n",
    "    [0, 0, 0, 0, 0, 1, 1, 1, 1],  # Supply constraints for warehouse 3\n",
    "    [1, 0, 1, 0, 0, 1, 0, 0, 0],  # Demand constraints for customer 1\n",
    "    [0, 1, 0, 1, 0, 0, 1, 0, 0],  # Demand constraints for customer 2\n",
    "    [0, 0, 0, 0, 1, 0, 0, 1, 1]   # Demand constraints for customer 3\n",
    "]\n",
    "\n",
    "b_eq = [100, 200, 150, 80, 100, 270]  # Right-hand side of the constraints\n",
    "\n",
    "# Bounds for decision variables\n",
    "x_bounds = [(0, None) for _ in range(len(c))]\n",
    "\n",
    "# Solve the problem using the Simplex method\n",
    "res = linprog(c, A_eq=A_eq, b_eq=b_eq, bounds=x_bounds, method='simplex')\n",
    "\n",
    "print(\"Optimal value:\", res.fun)\n",
    "print(\"Optimal solution:\", res.x)\n"
   ]
  },
  {
   "cell_type": "markdown",
   "id": "aefcf79c",
   "metadata": {},
   "source": [
    "## Explanation\n",
    "\n",
    "### Problem Data:\n",
    "\n",
    "c: Cost coefficients for transporting goods from warehouses to customers.\n",
    "\n",
    "A_eq: Coefficients for equality constraints (supply and demand constraints).\n",
    "\n",
    "b_eq: Right-hand side values for equality constraints.\n",
    "\n",
    "x_bounds: Bounds for the decision variables (non-negative in this case).\n",
    "\n",
    "### Solving the Problem:\n",
    "\n",
    "Using the linprog function from SciPy with the Simplex method to find the optimal solution."
   ]
  },
  {
   "cell_type": "markdown",
   "id": "8943429a",
   "metadata": {},
   "source": [
    "## Dual Simplex Method\n",
    "For the Dual Simplex Method, we'll use an example where the initial solution is not feasible."
   ]
  },
  {
   "cell_type": "code",
   "execution_count": 2,
   "id": "40020e98",
   "metadata": {},
   "outputs": [
    {
     "name": "stdout",
     "output_type": "stream",
     "text": [
      "Optimal value: 3230.0\n",
      "Optimal solution: [  0. 100.  80.  -0. 120.   0.   0.   0. 150.]\n"
     ]
    }
   ],
   "source": [
    "# Define the problem data\n",
    "c = [8, 6, 10, 9, 9, 12, 13, 7, 5]  # Cost coefficients\n",
    "\n",
    "# Define the constraints\n",
    "A_ub = [\n",
    "    [-1, -1, 0, 0, 0, 0, 0, 0, 0],  # Supply constraints for warehouse 1\n",
    "    [0, 0, -1, -1, -1, 0, 0, 0, 0],  # Supply constraints for warehouse 2\n",
    "    [0, 0, 0, 0, 0, -1, -1, -1, -1]   # Supply constraints for warehouse 3\n",
    "]\n",
    "\n",
    "b_ub = [-100, -200, -150]  # Right-hand side of the constraints (negative for dual simplex)\n",
    "\n",
    "A_eq = [\n",
    "    [1, 0, 1, 0, 0, 1, 0, 0, 0],  # Demand constraints for customer 1\n",
    "    [0, 1, 0, 1, 0, 0, 1, 0, 0],  # Demand constraints for customer 2\n",
    "    [0, 0, 0, 0, 1, 0, 0, 1, 1]   # Demand constraints for customer 3\n",
    "]\n",
    "\n",
    "b_eq = [80, 100, 270]  # Right-hand side of the constraints\n",
    "\n",
    "# Bounds for decision variables\n",
    "x_bounds = [(0, None) for _ in range(len(c))]\n",
    "\n",
    "# Solve the problem using the Dual Simplex method\n",
    "res = linprog(c, A_ub=A_ub, b_ub=b_ub, A_eq=A_eq, b_eq=b_eq, bounds=x_bounds, method='highs-ds')\n",
    "\n",
    "print(\"Optimal value:\", res.fun)\n",
    "print(\"Optimal solution:\", res.x)\n"
   ]
  },
  {
   "cell_type": "markdown",
   "id": "594f8de4",
   "metadata": {},
   "source": [
    "## Explanation\n",
    "\n",
    "### Problem Data:\n",
    "\n",
    "c: Cost coefficients for transporting goods from warehouses to customers.\n",
    "\n",
    "A_ub: Coefficients for upper-bound constraints (supply constraints with negative RHS for dual simplex).\n",
    "\n",
    "b_ub: Right-hand side values for upper-bound constraints.\n",
    "\n",
    "A_eq: Coefficients for equality constraints (demand constraints).\n",
    "\n",
    "b_eq: Right-hand side values for equality constraints.\n",
    "\n",
    "x_bounds: Bounds for the decision variables (non-negative in this case).\n",
    "\n",
    "\n",
    "### Solving the Problem:\n",
    "\n",
    "Using the linprog function from SciPy with the Dual Simplex method to find the optimal solution."
   ]
  },
  {
   "cell_type": "code",
   "execution_count": null,
   "id": "5123add3",
   "metadata": {},
   "outputs": [],
   "source": []
  }
 ],
 "metadata": {
  "kernelspec": {
   "display_name": "Python 3 (ipykernel)",
   "language": "python",
   "name": "python3"
  },
  "language_info": {
   "codemirror_mode": {
    "name": "ipython",
    "version": 3
   },
   "file_extension": ".py",
   "mimetype": "text/x-python",
   "name": "python",
   "nbconvert_exporter": "python",
   "pygments_lexer": "ipython3",
   "version": "3.11.4"
  }
 },
 "nbformat": 4,
 "nbformat_minor": 5
}
