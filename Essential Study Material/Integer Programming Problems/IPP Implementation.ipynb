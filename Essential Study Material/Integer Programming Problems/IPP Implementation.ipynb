{
 "cells": [
  {
   "cell_type": "markdown",
   "id": "754541c4",
   "metadata": {},
   "source": [
    "# Integer Programming Problems"
   ]
  },
  {
   "cell_type": "markdown",
   "id": "62efa443",
   "metadata": {},
   "source": [
    "## Problem Statement\n",
    "A company needs to decide on the locations for its warehouses to minimize the total cost while satisfying customer demand. The costs include fixed setup costs and transportation costs from warehouses to customers."
   ]
  },
  {
   "cell_type": "code",
   "execution_count": 2,
   "id": "ad05b94b",
   "metadata": {},
   "outputs": [
    {
     "name": "stdout",
     "output_type": "stream",
     "text": [
      "Optimal Transport Plan:\n",
      "Warehouse W1 to Customer C1: 0.0 units\n",
      "Warehouse W1 to Customer C2: 0.0 units\n",
      "Warehouse W1 to Customer C3: 0.0 units\n",
      "Warehouse W2 to Customer C1: 0.0 units\n",
      "Warehouse W2 to Customer C2: 0.0 units\n",
      "Warehouse W2 to Customer C3: 0.0 units\n",
      "Warehouse W3 to Customer C1: 0.0 units\n",
      "Warehouse W3 to Customer C2: 0.0 units\n",
      "Warehouse W3 to Customer C3: 0.0 units\n",
      "\n",
      "Warehouse Setup Plan:\n",
      "Warehouse W1: Closed\n",
      "Warehouse W2: Closed\n",
      "Warehouse W3: Closed\n"
     ]
    }
   ],
   "source": [
    "# Import required libraries\n",
    "import numpy as np\n",
    "import pandas as pd\n",
    "from scipy.optimize import linprog\n",
    "\n",
    "# Define problem data\n",
    "warehouses = ['W1', 'W2', 'W3']\n",
    "customers = ['C1', 'C2', 'C3']\n",
    "setup_costs = [100, 150, 200]\n",
    "transport_costs = [\n",
    "    [4, 6, 8],\n",
    "    [6, 4, 3],\n",
    "    [9, 7, 5]\n",
    "]\n",
    "demand = [80, 70, 60]\n",
    "capacity = [100, 90, 80]\n",
    "\n",
    "# Decision variables\n",
    "num_warehouses = len(warehouses)\n",
    "num_customers = len(customers)\n",
    "num_variables = num_warehouses * num_customers + num_warehouses\n",
    "\n",
    "# Objective function: Minimize total cost\n",
    "c = []\n",
    "for i in range(num_warehouses):\n",
    "    for j in range(num_customers):\n",
    "        c.append(transport_costs[i][j])\n",
    "c += setup_costs\n",
    "\n",
    "# Constraints\n",
    "A_ub = []\n",
    "b_ub = []\n",
    "\n",
    "# Capacity constraints\n",
    "for i in range(num_warehouses):\n",
    "    constraint = [0] * num_variables\n",
    "    for j in range(num_customers):\n",
    "        constraint[i * num_customers + j] = 1\n",
    "    constraint[num_warehouses * num_customers + i] = -capacity[i]\n",
    "    A_ub.append(constraint)\n",
    "    b_ub.append(0)\n",
    "\n",
    "# Demand constraints\n",
    "for j in range(num_customers):\n",
    "    constraint = [0] * num_variables\n",
    "    for i in range(num_warehouses):\n",
    "        constraint[i * num_customers + j] = 1\n",
    "    A_ub.append(constraint)\n",
    "    b_ub.append(demand[j])\n",
    "\n",
    "# Bounds\n",
    "bounds = [(0, None) for _ in range(num_warehouses * num_customers)] + [(0, 1) for _ in range(num_warehouses)]\n",
    "\n",
    "# Solve the problem\n",
    "res = linprog(c, A_ub=A_ub, b_ub=b_ub, bounds=bounds, method='highs')\n",
    "\n",
    "# Extract results\n",
    "if res.success:\n",
    "    transport_plan = res.x[:num_warehouses * num_customers]\n",
    "    warehouse_setup = res.x[num_warehouses * num_customers:]\n",
    "\n",
    "    print(\"Optimal Transport Plan:\")\n",
    "    for i in range(num_warehouses):\n",
    "        for j in range(num_customers):\n",
    "            print(f\"Warehouse {warehouses[i]} to Customer {customers[j]}: {transport_plan[i * num_customers + j]} units\")\n",
    "\n",
    "    print(\"\\nWarehouse Setup Plan:\")\n",
    "    for i in range(num_warehouses):\n",
    "        print(f\"Warehouse {warehouses[i]}: {'Open' if warehouse_setup[i] > 0.5 else 'Closed'}\")\n",
    "else:\n",
    "    print(\"Optimization did not converge\")\n"
   ]
  },
  {
   "cell_type": "markdown",
   "id": "445c3ffc",
   "metadata": {},
   "source": [
    "## Explanation\n",
    "\n",
    "### Data Definition:\n",
    "\n",
    "warehouses and customers lists define the entities involved.\n",
    "setup_costs and transport_costs arrays define the respective costs.\n",
    "demand and capacity arrays define the constraints for customer demand and warehouse capacities.\n",
    "\n",
    "### Decision Variables:\n",
    "\n",
    "x[i][j] represents the units transported from warehouse i to customer j.\n",
    "y[i] is a binary variable indicating whether warehouse i is open.\n",
    "\n",
    "### Objective Function:\n",
    "\n",
    "Minimize the total cost, which is the sum of transport and setup costs.\n",
    "\n",
    "### Constraints:\n",
    "\n",
    "Capacity constraints ensure warehouses do not exceed their capacities.\n",
    "Demand constraints ensure customer demands are met.\n",
    "Binary constraints ensure warehouses are either open or closed.\n",
    "\n",
    "### Solving the Problem:\n",
    "\n",
    "Use the linprog function from SciPy to solve the mixed integer programming problem.\n"
   ]
  },
  {
   "cell_type": "code",
   "execution_count": null,
   "id": "d3bce789",
   "metadata": {},
   "outputs": [],
   "source": []
  }
 ],
 "metadata": {
  "kernelspec": {
   "display_name": "Python 3 (ipykernel)",
   "language": "python",
   "name": "python3"
  },
  "language_info": {
   "codemirror_mode": {
    "name": "ipython",
    "version": 3
   },
   "file_extension": ".py",
   "mimetype": "text/x-python",
   "name": "python",
   "nbconvert_exporter": "python",
   "pygments_lexer": "ipython3",
   "version": "3.11.4"
  }
 },
 "nbformat": 4,
 "nbformat_minor": 5
}
